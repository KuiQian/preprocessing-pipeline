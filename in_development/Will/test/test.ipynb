{
 "cells": [
  {
   "cell_type": "code",
   "execution_count": 1,
   "metadata": {},
   "outputs": [],
   "source": [
    "import json\n",
    "from abakit.lib.Controllers.UrlController import UrlController\n",
    "from abakit.lib.annotation_layer import AnnotationLayer\n",
    "from abakit.atlas.VolumeMaker import VolumeMaker\n",
    "from abakit.atlas.NgSegmentMaker import NgConverter\n",
    "import os\n",
    "import numpy as np\n",
    "import json\n"
   ]
  },
  {
   "cell_type": "code",
   "execution_count": 2,
   "metadata": {},
   "outputs": [],
   "source": [
    "volume_id = '9df3e7981321d6249c88fdada72a1230a76829bc'\n",
    "controller = UrlController()\n",
    "url = controller.get_urlModel(462)\n",
    "state_json = json.loads(url.url)\n",
    "layers = state_json['layers']\n",
    "for layeri in layers:\n",
    "    if layeri['type'] == 'annotation':\n",
    "        layer = AnnotationLayer(layeri)\n",
    "        volume = layer.get_annotation_with_id(volume_id)\n",
    "        if volume is not None:\n",
    "            break"
   ]
  },
  {
   "cell_type": "code",
   "execution_count": 3,
   "metadata": {},
   "outputs": [
    {
     "data": {
      "text/plain": [
       "<abakit.lib.annotation_layer.Volume at 0x7fe160077c40>"
      ]
     },
     "execution_count": 3,
     "metadata": {},
     "output_type": "execute_result"
    }
   ],
   "source": [
    "volume"
   ]
  },
  {
   "cell_type": "code",
   "execution_count": 7,
   "metadata": {},
   "outputs": [
    {
     "data": {
      "text/plain": [
       "dict_keys([326, 325, 324, 323, 322, 321, 320, 319, 318, 317, 316, 315, 314, 313, 312, 311, 310, 309, 308, 307, 306, 305, 304, 303, 302, 301, 300, 299, 298, 297, 296, 295, 294])"
      ]
     },
     "execution_count": 7,
     "metadata": {},
     "output_type": "execute_result"
    }
   ],
   "source": [
    "contours.keys()"
   ]
  },
  {
   "cell_type": "code",
   "execution_count": 4,
   "metadata": {},
   "outputs": [
    {
     "name": "stderr",
     "output_type": "stream",
     "text": [
      "100%|██████████| 1/1 [00:00<00:00,  1.10it/s]\n"
     ]
    }
   ],
   "source": [
    "animal = 'test'\n",
    "vmaker = VolumeMaker(animal,check_path = False)\n",
    "structure,contours = volume.get_volume_name_and_contours()\n",
    "vmaker.set_aligned_contours({structure:contours})\n",
    "vmaker.compute_COMs_origins_and_volumes()\n"
   ]
  },
  {
   "cell_type": "code",
   "execution_count": 8,
   "metadata": {},
   "outputs": [
    {
     "data": {
      "text/plain": [
       "(1140, 1724, 33)"
      ]
     },
     "execution_count": 8,
     "metadata": {},
     "output_type": "execute_result"
    }
   ],
   "source": [
    "vmaker.volumes['5N_R'].shape"
   ]
  },
  {
   "cell_type": "code",
   "execution_count": 9,
   "metadata": {},
   "outputs": [
    {
     "data": {
      "image/png": "[encoded data removed]",
      "text/plain": [
       "<Figure size 432x288 with 2 Axes>"
      ]
     },
     "metadata": {
      "needs_background": "light"
     },
     "output_type": "display_data"
    }
   ],
   "source": [
    "vmaker.plotter.plot_3d_image_stack(vmaker.volumes['5N_R'],axis=2)"
   ]
  },
  {
   "cell_type": "code",
   "execution_count": 10,
   "metadata": {},
   "outputs": [
    {
     "name": "stderr",
     "output_type": "stream",
     "text": [
      "Uploading: 100%|██████████| 486/486 [00:02<00:00, 193.81it/s]\n",
      "Tasks:   0%|          | 0/1 [00:00<?, ?it/s]"
     ]
    },
    {
     "name": "stdout",
     "output_type": "stream",
     "text": [
      "Volume Bounds:  Bbox([26551, 12686, 293],[27692, 14411, 327], dtype=int32)\n",
      "Selected ROI:   Bbox([26551, 12686, 293],[27692, 14411, 327], dtype=int32)\n"
     ]
    },
    {
     "name": "stderr",
     "output_type": "stream",
     "text": [
      "Downloading: 100%|██████████| 486/486 [00:00<00:00, 1036.61it/s]\n",
      "Uploading: 100%|██████████| 35/35 [00:00<00:00, 59.70it/s]\n",
      "Uploading: 100%|██████████| 12/12 [00:00<00:00, 47.54it/s]\n",
      "Uploading: 100%|██████████| 4/4 [00:00<00:00, 24.11it/s]\n",
      "Tasks: 100%|██████████| 1/1 [00:01<00:00,  1.96s/it]\n",
      "Downloading: 100%|██████████| 32/32 [00:00<00:00, 590.71it/s]\n",
      "Downloading: 100%|██████████| 64/64 [00:00<00:00, 473.53it/s]\n",
      "Downloading: 100%|██████████| 64/64 [00:00<00:00, 459.56it/s]\n",
      "Downloading: 100%|██████████| 64/64 [00:00<00:00, 456.44it/s]\n",
      "Downloading: 100%|██████████| 64/64 [00:00<00:00, 548.02it/s]\n",
      "Downloading: 100%|██████████| 32/32 [00:00<00:00, 268.85it/s]\n",
      "Downloading: 100%|██████████| 64/64 [00:00<00:00, 547.08it/s]\n",
      "Downloading: 100%|██████████| 64/64 [00:00<00:00, 544.76it/s]\n",
      "Downloading: 100%|██████████| 32/32 [00:00<00:00, 257.41it/s]\n",
      "Downloading: 100%|██████████| 48/48 [00:00<00:00, 396.56it/s]\n",
      "Downloading: 100%|██████████| 48/48 [00:00<00:00, 414.18it/s]\n",
      "Downloading: 100%|██████████| 24/24 [00:00<00:00, 213.66it/s]\n",
      "Tasks: 100%|██████████| 12/12 [00:27<00:00,  2.31s/it]\n",
      "Tasks: 100%|██████████| 999/999 [00:03<00:00, 272.12it/s]\n"
     ]
    }
   ],
   "source": [
    "res = vmaker.get_resolution()\n",
    "segment_properties = vmaker.get_segment_properties(structures_to_include=[structure])\n",
    "folder_name = f'test_ng_maker'\n",
    "output_dir = os.path.join(vmaker.path.segmentation_layer,folder_name)\n",
    "maker = NgConverter(volume = vmaker.volumes[structure].astype(np.uint8),scales = [res*1000,res*1000,20000],offset=list(vmaker.origins[structure]))\n",
    "maker.create_neuroglancer_files(output_dir,segment_properties)"
   ]
  },
  {
   "cell_type": "code",
   "execution_count": 12,
   "metadata": {},
   "outputs": [
    {
     "data": {
      "text/plain": [
       "0.325"
      ]
     },
     "execution_count": 12,
     "metadata": {},
     "output_type": "execute_result"
    }
   ],
   "source": [
    "res"
   ]
  },
  {
   "cell_type": "code",
   "execution_count": null,
   "metadata": {},
   "outputs": [],
   "source": []
  }
 ],
 "metadata": {
  "interpreter": {
   "hash": "97e209aa8511c3356558c5b4441d0fe17ed27fc557fbfde94b259769985fb2e3"
  },
  "kernelspec": {
   "display_name": "Python 3.8.10 ('pipeline')",
   "language": "python",
   "name": "python3"
  },
  "language_info": {
   "codemirror_mode": {
    "name": "ipython",
    "version": 3
   },
   "file_extension": ".py",
   "mimetype": "text/x-python",
   "name": "python",
   "nbconvert_exporter": "python",
   "pygments_lexer": "ipython3",
   "version": "3.8.10"
  },
  "orig_nbformat": 4
 },
 "nbformat": 4,
 "nbformat_minor": 2
}
